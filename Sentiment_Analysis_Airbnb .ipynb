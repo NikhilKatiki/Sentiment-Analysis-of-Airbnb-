{
 "cells": [
  {
   "cell_type": "markdown",
   "id": "f3cf4fa5",
   "metadata": {},
   "source": [
    "# Airbnb - Sentiment Analysis "
   ]
  },
  {
   "cell_type": "markdown",
   "id": "ae6a4378",
   "metadata": {},
   "source": [
    "### Importing the Libraries "
   ]
  },
  {
   "cell_type": "code",
   "execution_count": 45,
   "id": "99afa296",
   "metadata": {},
   "outputs": [],
   "source": [
    "import pandas as pd\n",
    "import numpy as np\n",
    "import re \n",
    "import nltk \n",
    "from nltk.corpus import stopwords \n",
    "from nltk.stem.porter import *\n",
    "import matplotlib.pyplot as plt"
   ]
  },
  {
   "cell_type": "markdown",
   "id": "f197e8fe",
   "metadata": {},
   "source": [
    "### Data Understanding "
   ]
  },
  {
   "cell_type": "code",
   "execution_count": 26,
   "id": "1d8aa458",
   "metadata": {},
   "outputs": [
    {
     "name": "stdout",
     "output_type": "stream",
     "text": [
      "(400336, 6)\n",
      "Index(['listing_id', 'id', 'date', 'reviewer_id', 'reviewer_name', 'comments'], dtype='object')\n"
     ]
    },
    {
     "data": {
      "text/html": [
       "<div>\n",
       "<style scoped>\n",
       "    .dataframe tbody tr th:only-of-type {\n",
       "        vertical-align: middle;\n",
       "    }\n",
       "\n",
       "    .dataframe tbody tr th {\n",
       "        vertical-align: top;\n",
       "    }\n",
       "\n",
       "    .dataframe thead th {\n",
       "        text-align: right;\n",
       "    }\n",
       "</style>\n",
       "<table border=\"1\" class=\"dataframe\">\n",
       "  <thead>\n",
       "    <tr style=\"text-align: right;\">\n",
       "      <th></th>\n",
       "      <th>listing_id</th>\n",
       "      <th>id</th>\n",
       "      <th>date</th>\n",
       "      <th>reviewer_id</th>\n",
       "      <th>reviewer_name</th>\n",
       "      <th>comments</th>\n",
       "    </tr>\n",
       "  </thead>\n",
       "  <tbody>\n",
       "    <tr>\n",
       "      <th>0</th>\n",
       "      <td>2818</td>\n",
       "      <td>1191</td>\n",
       "      <td>2009-03-30</td>\n",
       "      <td>10952</td>\n",
       "      <td>Lam</td>\n",
       "      <td>Daniel is really cool. The place was nice and ...</td>\n",
       "    </tr>\n",
       "    <tr>\n",
       "      <th>1</th>\n",
       "      <td>2818</td>\n",
       "      <td>1771</td>\n",
       "      <td>2009-04-24</td>\n",
       "      <td>12798</td>\n",
       "      <td>Alice</td>\n",
       "      <td>Daniel is the most amazing host! His place is ...</td>\n",
       "    </tr>\n",
       "    <tr>\n",
       "      <th>2</th>\n",
       "      <td>2818</td>\n",
       "      <td>1989</td>\n",
       "      <td>2009-05-03</td>\n",
       "      <td>11869</td>\n",
       "      <td>Natalja</td>\n",
       "      <td>We had such a great time in Amsterdam. Daniel ...</td>\n",
       "    </tr>\n",
       "    <tr>\n",
       "      <th>3</th>\n",
       "      <td>2818</td>\n",
       "      <td>2797</td>\n",
       "      <td>2009-05-18</td>\n",
       "      <td>14064</td>\n",
       "      <td>Enrique</td>\n",
       "      <td>Very professional operation. Room is very clea...</td>\n",
       "    </tr>\n",
       "    <tr>\n",
       "      <th>4</th>\n",
       "      <td>2818</td>\n",
       "      <td>3151</td>\n",
       "      <td>2009-05-25</td>\n",
       "      <td>17977</td>\n",
       "      <td>Sherwin</td>\n",
       "      <td>Daniel is highly recommended.  He provided all...</td>\n",
       "    </tr>\n",
       "  </tbody>\n",
       "</table>\n",
       "</div>"
      ],
      "text/plain": [
       "   listing_id    id       date  reviewer_id reviewer_name  \\\n",
       "0        2818  1191 2009-03-30        10952           Lam   \n",
       "1        2818  1771 2009-04-24        12798         Alice   \n",
       "2        2818  1989 2009-05-03        11869       Natalja   \n",
       "3        2818  2797 2009-05-18        14064       Enrique   \n",
       "4        2818  3151 2009-05-25        17977       Sherwin   \n",
       "\n",
       "                                            comments  \n",
       "0  Daniel is really cool. The place was nice and ...  \n",
       "1  Daniel is the most amazing host! His place is ...  \n",
       "2  We had such a great time in Amsterdam. Daniel ...  \n",
       "3  Very professional operation. Room is very clea...  \n",
       "4  Daniel is highly recommended.  He provided all...  "
      ]
     },
     "execution_count": 26,
     "metadata": {},
     "output_type": "execute_result"
    }
   ],
   "source": [
    "review=pd.read_csv(r\"C:\\Users\\Nikhi\\OneDrive - purdue.edu\\Mod 1\\IT Project Managament\\Group Project\\reviews.csv\",parse_dates=[\"date\"])\n",
    "print(review.shape)\n",
    "print(review.columns)\n",
    "review=review.head(20000)\n",
    "review.head(5)"
   ]
  },
  {
   "cell_type": "markdown",
   "id": "ea4ac1ca",
   "metadata": {},
   "source": [
    "### Importing list of positive words and negative words"
   ]
  },
  {
   "cell_type": "code",
   "execution_count": 27,
   "id": "2893c61e",
   "metadata": {},
   "outputs": [],
   "source": [
    "#Importing positive words and negative words\n",
    "positive=pd.read_csv(r\"C:\\Users\\Nikhi\\OneDrive - purdue.edu\\Mod 1\\IT Project Managament\\Group Project\\positive-words.txt\",header=None)\n",
    "negative=pd.read_csv(r\"C:\\Users\\Nikhi\\OneDrive - purdue.edu\\Mod 1\\IT Project Managament\\Group Project\\negative-words.txt\",header=None)"
   ]
  },
  {
   "cell_type": "code",
   "execution_count": 28,
   "id": "1b51576e",
   "metadata": {},
   "outputs": [
    {
     "name": "stdout",
     "output_type": "stream",
     "text": [
      "        words\n",
      "0      abound\n",
      "1     abounds\n",
      "2   abundance\n",
      "3    abundant\n",
      "4  accessable\n"
     ]
    },
    {
     "data": {
      "text/html": [
       "<div>\n",
       "<style scoped>\n",
       "    .dataframe tbody tr th:only-of-type {\n",
       "        vertical-align: middle;\n",
       "    }\n",
       "\n",
       "    .dataframe tbody tr th {\n",
       "        vertical-align: top;\n",
       "    }\n",
       "\n",
       "    .dataframe thead th {\n",
       "        text-align: right;\n",
       "    }\n",
       "</style>\n",
       "<table border=\"1\" class=\"dataframe\">\n",
       "  <thead>\n",
       "    <tr style=\"text-align: right;\">\n",
       "      <th></th>\n",
       "      <th>words</th>\n",
       "    </tr>\n",
       "  </thead>\n",
       "  <tbody>\n",
       "    <tr>\n",
       "      <th>0</th>\n",
       "      <td>2-faced</td>\n",
       "    </tr>\n",
       "    <tr>\n",
       "      <th>1</th>\n",
       "      <td>2-faces</td>\n",
       "    </tr>\n",
       "    <tr>\n",
       "      <th>2</th>\n",
       "      <td>abnormal</td>\n",
       "    </tr>\n",
       "    <tr>\n",
       "      <th>3</th>\n",
       "      <td>abolish</td>\n",
       "    </tr>\n",
       "    <tr>\n",
       "      <th>4</th>\n",
       "      <td>abominable</td>\n",
       "    </tr>\n",
       "  </tbody>\n",
       "</table>\n",
       "</div>"
      ],
      "text/plain": [
       "        words\n",
       "0     2-faced\n",
       "1     2-faces\n",
       "2    abnormal\n",
       "3     abolish\n",
       "4  abominable"
      ]
     },
     "execution_count": 28,
     "metadata": {},
     "output_type": "execute_result"
    }
   ],
   "source": [
    "#naming the column \n",
    "positive.columns=['words']\n",
    "print(positive.head())\n",
    "#Naming the column\n",
    "negative.columns=['words']\n",
    "negative.head()"
   ]
  },
  {
   "cell_type": "markdown",
   "id": "c5ef0d42",
   "metadata": {},
   "source": [
    "### Data Pre-processing"
   ]
  },
  {
   "cell_type": "code",
   "execution_count": 29,
   "id": "6d416191",
   "metadata": {},
   "outputs": [],
   "source": [
    "#saving the stop words list \n",
    "stop_words=stopwords.words('english')\n",
    "#Importing the stemmer \n",
    "stemmer=PorterStemmer()\n",
    "#Functions to do the preprocessing \n",
    "stem_words=lambda x: stemmer.stem(x)\n",
    "#Breaking into words - Tokenization \n",
    "break_into_words = lambda x : re.findall(\"[a-zA-Z0-9]+\", x)\n",
    "#Skipping stop words\n",
    "skip_stop_words = lambda x: [w for w in x if w not in list(stop_words)]\n",
    "#Excluding numeric data types\n",
    "skip_numeric = lambda x : [w for w in x if not w.isnumeric()]"
   ]
  },
  {
   "cell_type": "code",
   "execution_count": 30,
   "id": "dcb9b48b",
   "metadata": {},
   "outputs": [],
   "source": [
    "#Converting into lower case \n",
    "review['review']=review['comments'].astype(str)\n",
    "review['review']=review['review'].str.lower()"
   ]
  },
  {
   "cell_type": "code",
   "execution_count": 31,
   "id": "bbeb73d7",
   "metadata": {},
   "outputs": [],
   "source": [
    "#Applying the above functions\n",
    "review['review2']=review['review'].apply(stem_words)\n",
    "review['review2']=review['review2'].apply(break_into_words)\n",
    "review['review2']=review['review2'].apply(skip_stop_words)\n",
    "review['review2']=review['review2'].apply(skip_numeric)"
   ]
  },
  {
   "cell_type": "markdown",
   "id": "fc4e7dea",
   "metadata": {},
   "source": [
    "### Feature Engineering"
   ]
  },
  {
   "cell_type": "code",
   "execution_count": 32,
   "id": "6b85c89e",
   "metadata": {},
   "outputs": [],
   "source": [
    "#count number of positive words\n",
    "positive_words_count=review['review2'].map(lambda x: len([w for w in x if w in list(positive['words'])]))\n",
    "#count number of negative words\n",
    "negative_words_count=review['review2'].map(lambda x: len([w for w in x if w in list(negative['words'])]))\n",
    "#Adding them back to the dataframe\n",
    "review['positive']=positive_words_count\n",
    "review['negative']=negative_words_count"
   ]
  },
  {
   "cell_type": "markdown",
   "id": "8924ed9b",
   "metadata": {},
   "source": [
    "### Sentiment Score"
   ]
  },
  {
   "cell_type": "code",
   "execution_count": 33,
   "id": "b5cfd8b0",
   "metadata": {},
   "outputs": [],
   "source": [
    "def sentiment_score(x):\n",
    "    if (x['positive']==0) and (x['negative']==0):\n",
    "        return None \n",
    "    if x['positive']>x['negative']:\n",
    "        return (x['positive']/(x['positive']+x['negative']))\n",
    "    else:\n",
    "        return -1*(x['negative']/(x['positive']+x['negative']))"
   ]
  },
  {
   "cell_type": "code",
   "execution_count": 34,
   "id": "319c030e",
   "metadata": {},
   "outputs": [],
   "source": [
    "review['score']=review.apply(sentiment_score,axis=1)"
   ]
  },
  {
   "cell_type": "code",
   "execution_count": 35,
   "id": "0b2d928f",
   "metadata": {},
   "outputs": [
    {
     "data": {
      "text/plain": [
       "count    18024.000000\n",
       "mean         0.835987\n",
       "std          0.456521\n",
       "min         -1.000000\n",
       "25%          0.900000\n",
       "50%          1.000000\n",
       "75%          1.000000\n",
       "max          1.000000\n",
       "Name: score, dtype: float64"
      ]
     },
     "execution_count": 35,
     "metadata": {},
     "output_type": "execute_result"
    }
   ],
   "source": [
    "review['score'].describe()"
   ]
  },
  {
   "cell_type": "markdown",
   "id": "e486b403",
   "metadata": {},
   "source": [
    "### Counting the number of positive words"
   ]
  },
  {
   "cell_type": "code",
   "execution_count": 36,
   "id": "d2e2ad84",
   "metadata": {},
   "outputs": [
    {
     "data": {
      "text/plain": [
       "(852, 2)"
      ]
     },
     "execution_count": 36,
     "metadata": {},
     "output_type": "execute_result"
    }
   ],
   "source": [
    "dict_positive={}\n",
    "for i in review['review2']:\n",
    "    for j in i:\n",
    "        if j in list(positive['words']):\n",
    "            if j in dict_positive.keys():\n",
    "                dict_positive[j]=dict_positive[j]+1\n",
    "            else:\n",
    "                dict_positive[j]=1\n",
    "positive_df=pd.DataFrame(dict_positive,index=['Words','Count'])\n",
    "positive_df1=positive_df.T\n",
    "positive_df1['Words']=positive_df1.index\n",
    "positive_df1.reset_index()\n",
    "positive_df1.head()\n",
    "positive_df1.shape"
   ]
  },
  {
   "cell_type": "markdown",
   "id": "5329c8e2",
   "metadata": {},
   "source": [
    "### Counting the number of negative words"
   ]
  },
  {
   "cell_type": "code",
   "execution_count": 37,
   "id": "ab752d35",
   "metadata": {},
   "outputs": [
    {
     "data": {
      "text/plain": [
       "(800, 2)"
      ]
     },
     "execution_count": 37,
     "metadata": {},
     "output_type": "execute_result"
    }
   ],
   "source": [
    "#Negative words\n",
    "dict_negative={}\n",
    "for i in review['review2']:\n",
    "    for j in i:\n",
    "        if j in list(negative['words']):\n",
    "            if j in dict_negative.keys():\n",
    "                dict_negative[j]=dict_negative[j]+1\n",
    "            else:\n",
    "                dict_negative[j]=1\n",
    "negative_df=pd.DataFrame(dict_negative,index=['Words','Count'])\n",
    "negative_df1=negative_df.T\n",
    "negative_df1['Words']=negative_df1.index\n",
    "negative_df1.head()\n",
    "negative_df1.shape"
   ]
  },
  {
   "cell_type": "markdown",
   "id": "f20774fb",
   "metadata": {},
   "source": [
    "# Analysis"
   ]
  },
  {
   "cell_type": "code",
   "execution_count": 38,
   "id": "d1ad89ca",
   "metadata": {},
   "outputs": [
    {
     "data": {
      "text/html": [
       "<div>\n",
       "<style scoped>\n",
       "    .dataframe tbody tr th:only-of-type {\n",
       "        vertical-align: middle;\n",
       "    }\n",
       "\n",
       "    .dataframe tbody tr th {\n",
       "        vertical-align: top;\n",
       "    }\n",
       "\n",
       "    .dataframe thead th {\n",
       "        text-align: right;\n",
       "    }\n",
       "</style>\n",
       "<table border=\"1\" class=\"dataframe\">\n",
       "  <thead>\n",
       "    <tr style=\"text-align: right;\">\n",
       "      <th></th>\n",
       "      <th>Words</th>\n",
       "      <th>Count</th>\n",
       "    </tr>\n",
       "  </thead>\n",
       "  <tbody>\n",
       "    <tr>\n",
       "      <th>great</th>\n",
       "      <td>great</td>\n",
       "      <td>10147</td>\n",
       "    </tr>\n",
       "    <tr>\n",
       "      <th>nice</th>\n",
       "      <td>nice</td>\n",
       "      <td>5384</td>\n",
       "    </tr>\n",
       "    <tr>\n",
       "      <th>clean</th>\n",
       "      <td>clean</td>\n",
       "      <td>4306</td>\n",
       "    </tr>\n",
       "    <tr>\n",
       "      <th>recommend</th>\n",
       "      <td>recommend</td>\n",
       "      <td>4022</td>\n",
       "    </tr>\n",
       "    <tr>\n",
       "      <th>perfect</th>\n",
       "      <td>perfect</td>\n",
       "      <td>3829</td>\n",
       "    </tr>\n",
       "    <tr>\n",
       "      <th>comfortable</th>\n",
       "      <td>comfortable</td>\n",
       "      <td>3164</td>\n",
       "    </tr>\n",
       "    <tr>\n",
       "      <th>good</th>\n",
       "      <td>good</td>\n",
       "      <td>3133</td>\n",
       "    </tr>\n",
       "    <tr>\n",
       "      <th>well</th>\n",
       "      <td>well</td>\n",
       "      <td>2964</td>\n",
       "    </tr>\n",
       "    <tr>\n",
       "      <th>lovely</th>\n",
       "      <td>lovely</td>\n",
       "      <td>2652</td>\n",
       "    </tr>\n",
       "    <tr>\n",
       "      <th>helpful</th>\n",
       "      <td>helpful</td>\n",
       "      <td>2642</td>\n",
       "    </tr>\n",
       "    <tr>\n",
       "      <th>easy</th>\n",
       "      <td>easy</td>\n",
       "      <td>2532</td>\n",
       "    </tr>\n",
       "    <tr>\n",
       "      <th>quiet</th>\n",
       "      <td>quiet</td>\n",
       "      <td>2252</td>\n",
       "    </tr>\n",
       "    <tr>\n",
       "      <th>beautiful</th>\n",
       "      <td>beautiful</td>\n",
       "      <td>2227</td>\n",
       "    </tr>\n",
       "    <tr>\n",
       "      <th>wonderful</th>\n",
       "      <td>wonderful</td>\n",
       "      <td>2070</td>\n",
       "    </tr>\n",
       "    <tr>\n",
       "      <th>friendly</th>\n",
       "      <td>friendly</td>\n",
       "      <td>1988</td>\n",
       "    </tr>\n",
       "    <tr>\n",
       "      <th>amazing</th>\n",
       "      <td>amazing</td>\n",
       "      <td>1827</td>\n",
       "    </tr>\n",
       "    <tr>\n",
       "      <th>super</th>\n",
       "      <td>super</td>\n",
       "      <td>1704</td>\n",
       "    </tr>\n",
       "    <tr>\n",
       "      <th>like</th>\n",
       "      <td>like</td>\n",
       "      <td>1685</td>\n",
       "    </tr>\n",
       "    <tr>\n",
       "      <th>thank</th>\n",
       "      <td>thank</td>\n",
       "      <td>1476</td>\n",
       "    </tr>\n",
       "    <tr>\n",
       "      <th>enjoyed</th>\n",
       "      <td>enjoyed</td>\n",
       "      <td>1390</td>\n",
       "    </tr>\n",
       "  </tbody>\n",
       "</table>\n",
       "</div>"
      ],
      "text/plain": [
       "                   Words  Count\n",
       "great              great  10147\n",
       "nice                nice   5384\n",
       "clean              clean   4306\n",
       "recommend      recommend   4022\n",
       "perfect          perfect   3829\n",
       "comfortable  comfortable   3164\n",
       "good                good   3133\n",
       "well                well   2964\n",
       "lovely            lovely   2652\n",
       "helpful          helpful   2642\n",
       "easy                easy   2532\n",
       "quiet              quiet   2252\n",
       "beautiful      beautiful   2227\n",
       "wonderful      wonderful   2070\n",
       "friendly        friendly   1988\n",
       "amazing          amazing   1827\n",
       "super              super   1704\n",
       "like                like   1685\n",
       "thank              thank   1476\n",
       "enjoyed          enjoyed   1390"
      ]
     },
     "execution_count": 38,
     "metadata": {},
     "output_type": "execute_result"
    }
   ],
   "source": [
    "positive_df1.sort_values(\"Count\",ascending=False).head(20)"
   ]
  },
  {
   "cell_type": "code",
   "execution_count": 39,
   "id": "3e9efa10",
   "metadata": {},
   "outputs": [
    {
     "data": {
      "text/html": [
       "<div>\n",
       "<style scoped>\n",
       "    .dataframe tbody tr th:only-of-type {\n",
       "        vertical-align: middle;\n",
       "    }\n",
       "\n",
       "    .dataframe tbody tr th {\n",
       "        vertical-align: top;\n",
       "    }\n",
       "\n",
       "    .dataframe thead th {\n",
       "        text-align: right;\n",
       "    }\n",
       "</style>\n",
       "<table border=\"1\" class=\"dataframe\">\n",
       "  <thead>\n",
       "    <tr style=\"text-align: right;\">\n",
       "      <th></th>\n",
       "      <th>Words</th>\n",
       "      <th>Count</th>\n",
       "    </tr>\n",
       "  </thead>\n",
       "  <tbody>\n",
       "    <tr>\n",
       "      <th>die</th>\n",
       "      <td>die</td>\n",
       "      <td>1197</td>\n",
       "    </tr>\n",
       "    <tr>\n",
       "      <th>steep</th>\n",
       "      <td>steep</td>\n",
       "      <td>462</td>\n",
       "    </tr>\n",
       "    <tr>\n",
       "      <th>tout</th>\n",
       "      <td>tout</td>\n",
       "      <td>426</td>\n",
       "    </tr>\n",
       "    <tr>\n",
       "      <th>problem</th>\n",
       "      <td>problem</td>\n",
       "      <td>403</td>\n",
       "    </tr>\n",
       "    <tr>\n",
       "      <th>noise</th>\n",
       "      <td>noise</td>\n",
       "      <td>277</td>\n",
       "    </tr>\n",
       "    <tr>\n",
       "      <th>cold</th>\n",
       "      <td>cold</td>\n",
       "      <td>262</td>\n",
       "    </tr>\n",
       "    <tr>\n",
       "      <th>noisy</th>\n",
       "      <td>noisy</td>\n",
       "      <td>172</td>\n",
       "    </tr>\n",
       "    <tr>\n",
       "      <th>bad</th>\n",
       "      <td>bad</td>\n",
       "      <td>167</td>\n",
       "    </tr>\n",
       "    <tr>\n",
       "      <th>issue</th>\n",
       "      <td>issue</td>\n",
       "      <td>163</td>\n",
       "    </tr>\n",
       "    <tr>\n",
       "      <th>problems</th>\n",
       "      <td>problems</td>\n",
       "      <td>158</td>\n",
       "    </tr>\n",
       "    <tr>\n",
       "      <th>unfortunately</th>\n",
       "      <td>unfortunately</td>\n",
       "      <td>149</td>\n",
       "    </tr>\n",
       "    <tr>\n",
       "      <th>issues</th>\n",
       "      <td>issues</td>\n",
       "      <td>147</td>\n",
       "    </tr>\n",
       "    <tr>\n",
       "      <th>hard</th>\n",
       "      <td>hard</td>\n",
       "      <td>137</td>\n",
       "    </tr>\n",
       "    <tr>\n",
       "      <th>loud</th>\n",
       "      <td>loud</td>\n",
       "      <td>102</td>\n",
       "    </tr>\n",
       "    <tr>\n",
       "      <th>sin</th>\n",
       "      <td>sin</td>\n",
       "      <td>94</td>\n",
       "    </tr>\n",
       "    <tr>\n",
       "      <th>difficult</th>\n",
       "      <td>difficult</td>\n",
       "      <td>89</td>\n",
       "    </tr>\n",
       "    <tr>\n",
       "      <th>trouble</th>\n",
       "      <td>trouble</td>\n",
       "      <td>88</td>\n",
       "    </tr>\n",
       "    <tr>\n",
       "      <th>sink</th>\n",
       "      <td>sink</td>\n",
       "      <td>82</td>\n",
       "    </tr>\n",
       "    <tr>\n",
       "      <th>disappointed</th>\n",
       "      <td>disappointed</td>\n",
       "      <td>78</td>\n",
       "    </tr>\n",
       "    <tr>\n",
       "      <th>hang</th>\n",
       "      <td>hang</td>\n",
       "      <td>75</td>\n",
       "    </tr>\n",
       "  </tbody>\n",
       "</table>\n",
       "</div>"
      ],
      "text/plain": [
       "                       Words  Count\n",
       "die                      die   1197\n",
       "steep                  steep    462\n",
       "tout                    tout    426\n",
       "problem              problem    403\n",
       "noise                  noise    277\n",
       "cold                    cold    262\n",
       "noisy                  noisy    172\n",
       "bad                      bad    167\n",
       "issue                  issue    163\n",
       "problems            problems    158\n",
       "unfortunately  unfortunately    149\n",
       "issues                issues    147\n",
       "hard                    hard    137\n",
       "loud                    loud    102\n",
       "sin                      sin     94\n",
       "difficult          difficult     89\n",
       "trouble              trouble     88\n",
       "sink                    sink     82\n",
       "disappointed    disappointed     78\n",
       "hang                    hang     75"
      ]
     },
     "execution_count": 39,
     "metadata": {},
     "output_type": "execute_result"
    }
   ],
   "source": [
    "negative_df1.sort_values(\"Count\",ascending=False).head(20)"
   ]
  },
  {
   "cell_type": "code",
   "execution_count": 47,
   "id": "6f608a65",
   "metadata": {},
   "outputs": [],
   "source": [
    "review['Date_Year']=pd.DatetimeIndex(review['date']).year\n",
    "review['Date_Month']=pd.DatetimeIndex(review['date']).month\n"
   ]
  },
  {
   "cell_type": "code",
   "execution_count": 48,
   "id": "54feef89",
   "metadata": {},
   "outputs": [
    {
     "data": {
      "text/plain": [
       "Index(['listing_id', 'id', 'date', 'reviewer_id', 'reviewer_name', 'comments',\n",
       "       'review', 'review2', 'positive', 'negative', 'score', 'Date_Year',\n",
       "       'Date_Month'],\n",
       "      dtype='object')"
      ]
     },
     "execution_count": 48,
     "metadata": {},
     "output_type": "execute_result"
    }
   ],
   "source": [
    "review.columns"
   ]
  },
  {
   "cell_type": "code",
   "execution_count": 42,
   "id": "d819c448",
   "metadata": {},
   "outputs": [],
   "source": [
    "Score_yoy=review.groupby(['Date_Year'])['score'].mean()"
   ]
  },
  {
   "cell_type": "code",
   "execution_count": 69,
   "id": "ca5b130c",
   "metadata": {},
   "outputs": [
    {
     "data": {
      "text/plain": [
       "Text(0, 0.5, 'Sentiment Score')"
      ]
     },
     "execution_count": 69,
     "metadata": {},
     "output_type": "execute_result"
    },
    {
     "data": {
      "image/png": "[encoded data removed]",
      "text/plain": [
       "<Figure size 432x288 with 1 Axes>"
      ]
     },
     "metadata": {
      "needs_background": "light"
     },
     "output_type": "display_data"
    }
   ],
   "source": [
    "plt.plot(Score_yoy)\n",
    "plt.title(\"Sentiment Score over time\")\n",
    "plt.xlabel(\"Year\")\n",
    "plt.ylabel(\"Sentiment Score\")"
   ]
  },
  {
   "cell_type": "code",
   "execution_count": 75,
   "id": "bb5aa9b7",
   "metadata": {},
   "outputs": [],
   "source": [
    "Score_mom=review[review['Date_Year']>=2020].groupby(['Date_Year','Date_Month'])['score'].mean()"
   ]
  },
  {
   "cell_type": "code",
   "execution_count": 77,
   "id": "a21d1789",
   "metadata": {},
   "outputs": [],
   "source": [
    "Score_mom_df=pd.DataFrame(Score_mom)\n",
    "Score_mom_df.reset_index(inplace=True)"
   ]
  },
  {
   "cell_type": "code",
   "execution_count": 84,
   "id": "dfbf1e56",
   "metadata": {},
   "outputs": [
    {
     "data": {
      "text/html": [
       "<div>\n",
       "<style scoped>\n",
       "    .dataframe tbody tr th:only-of-type {\n",
       "        vertical-align: middle;\n",
       "    }\n",
       "\n",
       "    .dataframe tbody tr th {\n",
       "        vertical-align: top;\n",
       "    }\n",
       "\n",
       "    .dataframe thead th {\n",
       "        text-align: right;\n",
       "    }\n",
       "</style>\n",
       "<table border=\"1\" class=\"dataframe\">\n",
       "  <thead>\n",
       "    <tr style=\"text-align: right;\">\n",
       "      <th></th>\n",
       "      <th>Date_Year</th>\n",
       "      <th>Date_Month</th>\n",
       "      <th>score</th>\n",
       "    </tr>\n",
       "  </thead>\n",
       "  <tbody>\n",
       "    <tr>\n",
       "      <th>0</th>\n",
       "      <td>2020</td>\n",
       "      <td>1</td>\n",
       "      <td>0.904164</td>\n",
       "    </tr>\n",
       "    <tr>\n",
       "      <th>1</th>\n",
       "      <td>2020</td>\n",
       "      <td>2</td>\n",
       "      <td>0.872668</td>\n",
       "    </tr>\n",
       "    <tr>\n",
       "      <th>2</th>\n",
       "      <td>2020</td>\n",
       "      <td>3</td>\n",
       "      <td>0.821495</td>\n",
       "    </tr>\n",
       "    <tr>\n",
       "      <th>3</th>\n",
       "      <td>2020</td>\n",
       "      <td>4</td>\n",
       "      <td>0.866667</td>\n",
       "    </tr>\n",
       "    <tr>\n",
       "      <th>4</th>\n",
       "      <td>2020</td>\n",
       "      <td>5</td>\n",
       "      <td>0.777778</td>\n",
       "    </tr>\n",
       "  </tbody>\n",
       "</table>\n",
       "</div>"
      ],
      "text/plain": [
       "   Date_Year  Date_Month     score\n",
       "0       2020           1  0.904164\n",
       "1       2020           2  0.872668\n",
       "2       2020           3  0.821495\n",
       "3       2020           4  0.866667\n",
       "4       2020           5  0.777778"
      ]
     },
     "execution_count": 84,
     "metadata": {},
     "output_type": "execute_result"
    }
   ],
   "source": [
    "Score_mom_df.head()"
   ]
  },
  {
   "cell_type": "code",
   "execution_count": 90,
   "id": "f4ac31ad",
   "metadata": {},
   "outputs": [],
   "source": [
    "#Score_mom['Key']=Score_mom.apply(lambda x: str(x['Date_Year']).join(str(x['Date_Month'])))\n",
    "Score_mom_df['Key']=Score_mom_df['Date_Year'].astype(str)+Score_mom_df['Date_Month'].astype(str)"
   ]
  },
  {
   "cell_type": "code",
   "execution_count": 99,
   "id": "500c7645",
   "metadata": {},
   "outputs": [
    {
     "data": {
      "text/plain": [
       "[<matplotlib.lines.Line2D at 0x2ad779e0280>]"
      ]
     },
     "execution_count": 99,
     "metadata": {},
     "output_type": "execute_result"
    },
    {
     "data": {
      "image/png": "[encoded data removed]",
      "text/plain": [
       "<Figure size 640x480 with 1 Axes>"
      ]
     },
     "metadata": {
      "needs_background": "light"
     },
     "output_type": "display_data"
    }
   ],
   "source": [
    "from matplotlib.pyplot import figure\n",
    "figure(figsize=(8, 6), dpi=80)\n",
    "plt.title(\"Airbnb performance during Covid\")\n",
    "plt.xlabel(\"Year and Month\")\n",
    "plt.ylabel(\"Average Sentiment Score\")\n",
    "plt.xticks(rotation=90)\n",
    "plt.plot(Score_mom_df['Key'],Score_mom_df['score'])"
   ]
  },
  {
   "cell_type": "markdown",
   "id": "84e3df4a",
   "metadata": {},
   "source": [
    "# Results "
   ]
  },
  {
   "cell_type": "markdown",
   "id": "be7ca1f5",
   "metadata": {},
   "source": [
    "1.Sentiment dropped after March 2020, but as the company takes remedial steps, sentiment increased over time <br>\n",
    "2.From March to June, there are more cancellations than the bookings <br>\n",
    "2.Top positive and negative comments did not change much in pre and post Covid <br>\n",
    "3.Dirty and Crowded are highlighted negative comments post-Covid which can be suggestion to Airbnb hotels which are having low sentiment scores"
   ]
  },
  {
   "cell_type": "markdown",
   "id": "b3502a66",
   "metadata": {},
   "source": [
    "# Thank you!"
   ]
  }
 ],
 "metadata": {
  "kernelspec": {
   "display_name": "Python 3",
   "language": "python",
   "name": "python3"
  },
  "language_info": {
   "codemirror_mode": {
    "name": "ipython",
    "version": 3
   },
   "file_extension": ".py",
   "mimetype": "text/x-python",
   "name": "python",
   "nbconvert_exporter": "python",
   "pygments_lexer": "ipython3",
   "version": "3.8.8"
  }
 },
 "nbformat": 4,
 "nbformat_minor": 5
}
